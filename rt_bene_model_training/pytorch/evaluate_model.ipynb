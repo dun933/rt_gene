{
 "metadata": {
  "language_info": {
   "codemirror_mode": {
    "name": "ipython",
    "version": 3
   },
   "file_extension": ".py",
   "mimetype": "text/x-python",
   "name": "python",
   "nbconvert_exporter": "python",
   "pygments_lexer": "ipython3",
   "version": "3.8.6-final"
  },
  "orig_nbformat": 2,
  "kernelspec": {
   "name": "python3",
   "language": "python",
   "display_name": "Python 3"
  }
 },
 "nbformat": 4,
 "nbformat_minor": 2,
 "cells": [
  {
   "cell_type": "code",
   "execution_count": 1,
   "metadata": {},
   "outputs": [],
   "source": [
    "import os\n",
    "import glob\n",
    "import h5py\n",
    "import matplotlib.pyplot as plt\n",
    "import numpy as np\n",
    "import torch\n",
    "from sklearn.metrics import roc_curve, precision_recall_curve, f1_score, roc_auc_score, average_precision_score\n",
    "from torch import sigmoid\n",
    "from tqdm.notebook import tqdm\n",
    "from torch.utils.data import DataLoader\n",
    "\n",
    "from rt_bene.blink_estimation_models_pytorch import BlinkEstimationModelResnet18, BlinkEstimationModelResnet50, \\\n",
    "    BlinkEstimationModelVGG19, BlinkEstimationModelDenseNet121, BlinkEstimationModelVGG16\n",
    "from rt_bene_model_training.pytorch.rtbene_dataset import RTBENEH5Dataset\n",
    "import cv2"
   ]
  },
  {
   "cell_type": "code",
   "execution_count": 4,
   "metadata": {},
   "outputs": [],
   "source": [
    "models = {\n",
    "    \"resnet18\": BlinkEstimationModelResnet18,\n",
    "    \"resnet50\": BlinkEstimationModelResnet50,\n",
    "    \"vgg16\": BlinkEstimationModelVGG16,\n",
    "    \"vgg19\": BlinkEstimationModelVGG19,\n",
    "    \"densenet121\": BlinkEstimationModelDenseNet121\n",
    "}\n",
    "\n",
    "modes = [\"ensemble\", \"single\"]\n",
    "augmentation = [\"augmented\", \"not_augmented\"]\n",
    "curriculum = [\"curriculum\", \"not_curriculum\"]\n",
    "\n",
    "hdf5_file = os.path.abspath(os.path.expanduser(\"~/datasets/rtbene_dataset.hdf5\"))\n",
    "model_base = \"resnet18\"\n",
    "model_net_dir = os.path.abspath(f\"../rt_gene/rt_bene_model_training/pytorch/model_nets/\")\n",
    "mode = \"single\"\n",
    "augmentation_mode = \"augmented\"\n",
    "curriculum_mode = \"not_curriculum\"\n",
    "model_files = glob.glob(os.path.join(model_net_dir, \"*.model\"))\n",
    "\n",
    "assert model_base in models.keys(), \"_model_base requested is not supported\"\n",
    "assert mode in modes, \"prediction mode must be either 'single' or 'ensemble'\"\n",
    "assert len(model_files) > 0, \"No .model files found in directory\"\n",
    "assert augmentation_mode in augmentation, \"augmentation mode not in list, either 'augmented' or 'not_augmented'\"\n",
    "\n",
    "test_subjects = [0, 11, 15, 16]\n",
    "# create a master list of predictions and labels\n",
    "model_inferences = {}"
   ]
  },
  {
   "cell_type": "code",
   "execution_count": 3,
   "outputs": [
    {
     "name": "stderr",
     "output_type": "stream",
     "text": [
      "Loading (Subjects..) subject metadata...: 100%|██████████| 4/4 [00:12<00:00,  3.16s/it]\n"
     ]
    }
   ],
   "source": [
    "data_test = RTBENEH5Dataset(h5_file=h5py.File(hdf5_file, mode=\"r\"), subject_list=test_subjects, loader_desc=\"Subjects..\")"
   ],
   "metadata": {
    "collapsed": false,
    "pycharm": {
     "name": "#%%\n"
    }
   }
  },
  {
   "cell_type": "code",
   "execution_count": 5,
   "outputs": [
    {
     "data": {
      "text/plain": "Models..:   0%|          | 0/1 [00:00<?, ?it/s]",
      "application/vnd.jupyter.widget-view+json": {
       "version_major": 2,
       "version_minor": 0,
       "model_id": "10e672e5af864030b4866b3053ecea92"
      }
     },
     "metadata": {},
     "output_type": "display_data"
    },
    {
     "data": {
      "text/plain": "Images...:   0%|          | 0/63 [00:00<?, ?it/s]",
      "application/vnd.jupyter.widget-view+json": {
       "version_major": 2,
       "version_minor": 0,
       "model_id": "c15550d206754d569113bfdd39ae5f69"
      }
     },
     "metadata": {},
     "output_type": "display_data"
    }
   ],
   "source": [
    "if mode == \"single\":\n",
    "    data_loader = DataLoader(dataset=data_test, batch_size=512, shuffle=False, pin_memory=True, num_workers=8)\n",
    "    for model_file in tqdm(model_files, desc=\"Models..\", position=1):\n",
    "        labels = []\n",
    "        predictions = []\n",
    "        model_nn = models.get(model_base)()\n",
    "        model_nn.load_state_dict(torch.load(model_file))\n",
    "        model_nn.cuda()\n",
    "        model_nn.eval()\n",
    "        for batch in tqdm(data_loader, desc=\"Images...\", position=2):\n",
    "            _left, _right, _label = batch\n",
    "            _predicted_blink = sigmoid(model_nn(_left.float().cuda(), _right.float().cuda()))\n",
    "            labels.extend(torch.flatten(_label).tolist())\n",
    "            predictions.extend(torch.flatten(_predicted_blink.detach().cpu()).tolist())\n",
    "\n",
    "        model_inferences[model_file] = {\"labels\": labels, \"predictions\": predictions}"
   ],
   "metadata": {
    "collapsed": false,
    "pycharm": {
     "name": "#%%\n"
    }
   }
  },
  {
   "cell_type": "code",
   "execution_count": 5,
   "outputs": [
    {
     "data": {
      "text/plain": "Loading Models..:   0%|          | 0/3 [00:00<?, ?it/s]",
      "application/vnd.jupyter.widget-view+json": {
       "version_major": 2,
       "version_minor": 0,
       "model_id": "f15f47aca3e34129b25226d207001297"
      }
     },
     "metadata": {},
     "output_type": "display_data"
    },
    {
     "data": {
      "text/plain": "Images...:   0%|          | 0/63 [00:00<?, ?it/s]",
      "application/vnd.jupyter.widget-view+json": {
       "version_major": 2,
       "version_minor": 0,
       "model_id": "83d1c9017ead47029f59623e95232e09"
      }
     },
     "metadata": {},
     "output_type": "display_data"
    }
   ],
   "source": [
    "if mode == \"ensemble\":\n",
    "    data_loader = DataLoader(dataset=data_test, batch_size=512, shuffle=False, pin_memory=True, num_workers=8)\n",
    "    model_ensemble = []\n",
    "    for model_file in tqdm(model_files, desc=\"Loading Models..\", position=1):\n",
    "        model_nn = models.get(model_base)()\n",
    "        model_nn.load_state_dict(torch.load(model_file))\n",
    "        model_nn.cuda()\n",
    "        model_nn.eval()\n",
    "        model_ensemble.append(model_nn)\n",
    "\n",
    "    labels = []\n",
    "    predictions = []\n",
    "    for batch in tqdm(data_loader, desc=\"Images...\", position=2):\n",
    "            _left, _right, _label = batch\n",
    "            _predicted_blink = [sigmoid(m(_left.float().cuda(), _right.float().cuda())) for m in model_ensemble]\n",
    "            labels.extend(torch.flatten(_label).tolist())\n",
    "            _predicted_blink = torch.stack(_predicted_blink, dim=1)\n",
    "            _predicted_blink = torch.mean(_predicted_blink, dim=1)\n",
    "            predictions.extend(torch.flatten(_predicted_blink.detach().cpu()).tolist())\n",
    "\n",
    "    model_inferences['ensemble'] = {\"labels\": labels, \"predictions\": predictions}"
   ],
   "metadata": {
    "collapsed": false,
    "pycharm": {
     "name": "#%%\n"
    }
   }
  },
  {
   "cell_type": "code",
   "execution_count": 6,
   "metadata": {},
   "outputs": [
    {
     "data": {
      "text/plain": "<Figure size 1080x432 with 2 Axes>",
      "image/png": "[encoded data removed]"
     },
     "metadata": {
      "needs_background": "light"
     },
     "output_type": "display_data"
    }
   ],
   "source": [
    "fig, (roc_fig, prc_fig) = plt.subplots(nrows=1, ncols=2, figsize=(15, 6))\n",
    "aurocs = []\n",
    "auprcs = []\n",
    "for model_name, inferences in model_inferences.items():\n",
    "    labels = inferences['labels']\n",
    "    predictions = inferences['predictions']\n",
    "    fpr, tpr, ft_thresholds = roc_curve(y_true=labels, y_score=predictions)\n",
    "    positive_predictive_value, sensitivity, pr_thresholds = precision_recall_curve(labels, predictions)\n",
    "    optimal_roc_idx = np.argmax(tpr - fpr)\n",
    "    optimal_roc_threshold = ft_thresholds[optimal_roc_idx]\n",
    "    optimal_prc_idx = np.argmax(sensitivity + positive_predictive_value)\n",
    "    optimal_prc_threshold = pr_thresholds[optimal_prc_idx]\n",
    "    auroc = roc_auc_score(y_true=labels, y_score=predictions)\n",
    "    auprc = average_precision_score(y_true=labels, y_score=predictions)\n",
    "    aurocs.append(auroc)\n",
    "    auprcs.append(auprc)\n",
    "\n",
    "    prc_fig.step(sensitivity, positive_predictive_value, where='post')\n",
    "    roc_fig.plot(fpr, tpr, lw=2)\n",
    "\n",
    "roc_fig.plot([0, 1], [0, 1], color='navy', lw=2, linestyle='--')\n",
    "roc_fig.set_xlim([0.0, 1.05])\n",
    "roc_fig.set_ylim([0.0, 1.05])\n",
    "roc_fig.set_xlabel('1 - Sensitivity')\n",
    "roc_fig.set_ylabel('Specificity')\n",
    "roc_fig.set_title('Receiver operating characteristics curve. AUC {:.2f}'.format(np.array(aurocs).mean()))\n",
    "\n",
    "prc_fig.set_xlabel('Recall')\n",
    "prc_fig.set_ylabel('Precision')\n",
    "prc_fig.set_ylim([0.0, 1.05])\n",
    "prc_fig.set_xlim([0.0, 1.05])\n",
    "\n",
    "prc_fig.set_title(\"Precision recall curve. AUC {:.2f}\".format(np.array(auprcs).mean()))\n",
    "plt.savefig(os.path.abspath(os.path.expanduser(f\"~/catkin_ws/src/rt_gene/assets/rtbene_pytorch_{model_base}_{mode}.pdf\")), format=\"pdf\", bbox_inches=\"tight\")\n",
    "plt.show()"
   ]
  },
  {
   "cell_type": "code",
   "execution_count": 7,
   "outputs": [
    {
     "data": {
      "text/plain": "Calculating F-Scores:   0%|          | 0/1000 [00:00<?, ?it/s]",
      "application/vnd.jupyter.widget-view+json": {
       "version_major": 2,
       "version_minor": 0,
       "model_id": "9a36940e109544e89e81cca21ae2179c"
      }
     },
     "metadata": {},
     "output_type": "display_data"
    },
    {
     "name": "stdout",
     "output_type": "stream",
     "text": [
      "Optimal Threshold from F1-Score Thresholding 0.23\n"
     ]
    },
    {
     "data": {
      "text/plain": "<Figure size 504x432 with 1 Axes>",
      "image/png": "[encoded data removed]"
     },
     "metadata": {
      "needs_background": "light"
     },
     "output_type": "display_data"
    }
   ],
   "source": [
    "fig, (f1_plot) = plt.subplots(nrows=1, ncols=1, figsize=(7, 6))\n",
    "f1_thresholds = []\n",
    "for model_name, inferences in model_inferences.items():\n",
    "    labels = inferences['labels']\n",
    "    predictions = inferences['predictions']\n",
    "    thresholds = np.arange(0.0, 1.0, 0.001)\n",
    "    f1scores = np.zeros(shape=(len(thresholds)))\n",
    "    # Sweep across the thresholds and calculate the f1-score for those predictions.\n",
    "    # The idea here is that the threshold with the highest f1-score is ideal\n",
    "    for index, elem in tqdm(enumerate(thresholds), total=len(thresholds), desc=\"Calculating F-Scores\"):\n",
    "        # Corrected probabilities\n",
    "        y_pred_prob = (np.array(predictions) > elem).astype('int')\n",
    "        # Calculate the f-score\n",
    "        f1scores[index] = f1_score(np.array(labels), y_pred_prob)\n",
    "\n",
    "    # Find the optimal threshold\n",
    "    f1score_argmax_index = np.argmax(f1scores)\n",
    "    optimal_f1score_threshold = thresholds[f1score_argmax_index]\n",
    "    f1score_at_optimal_threshold = f1scores[f1score_argmax_index]\n",
    "    f1_plot.plot(thresholds, f1scores)\n",
    "    f1_plot.plot(optimal_f1score_threshold, f1score_at_optimal_threshold, color=\"g\", marker=\"o\", markersize=5)\n",
    "    print(f'Optimal Threshold from F1-Score Thresholding {optimal_f1score_threshold:.2f}')\n",
    "    f1_thresholds.append(optimal_f1score_threshold)\n",
    "f1_plot.set_ylim([0.0, 1.05])\n",
    "f1_plot.set_xlim([0.0, 1.05])\n",
    "f1_plot.set_title(f\"F1 scores over threshold; Mean threshold: {np.array(f1_thresholds).mean():.2f}\")\n",
    "plt.savefig(os.path.abspath(os.path.expanduser(f\"~/catkin_ws/src/rt_gene/assets/rtbene_pytorch_f1scores_{model_base}_{mode}.pdf\")), format=\"pdf\", bbox_inches=\"tight\")\n",
    "plt.show()"
   ],
   "metadata": {
    "collapsed": false,
    "pycharm": {
     "name": "#%%\n"
    }
   }
  },
  {
   "cell_type": "code",
   "execution_count": 8,
   "outputs": [],
   "source": [
    "import pandas as pd\n",
    "# save the data\n",
    "for idx, (model_name, inferences) in enumerate(model_inferences.items()):\n",
    "    labels = inferences['labels']\n",
    "    predictions = inferences['predictions']\n",
    "    df = pd.DataFrame({\"labels\": labels,\n",
    "                       \"predictions\": predictions,\n",
    "                       \"model_name\": f\"{model_base}_{model_name}_{idx}\"})\n",
    "    df.to_csv(os.path.abspath(os.path.expanduser(f\"~/catkin_ws/src/rt_gene/assets/rtbene_pytorch_{model_base}_{mode}_{idx}_{augmentation_mode}_{curriculum_mode}.csv\")))"
   ],
   "metadata": {
    "collapsed": false,
    "pycharm": {
     "name": "#%%\n"
    }
   }
  },
  {
   "cell_type": "code",
   "execution_count": 9,
   "outputs": [
    {
     "data": {
      "text/plain": "Loading Models..:   0%|          | 0/1 [00:00<?, ?it/s]",
      "application/vnd.jupyter.widget-view+json": {
       "version_major": 2,
       "version_minor": 0,
       "model_id": "2f1cbac516d14f78be4260fe91649ffb"
      }
     },
     "metadata": {},
     "output_type": "display_data"
    },
    {
     "data": {
      "text/plain": "Images...:   0%|          | 0/1002 [00:00<?, ?it/s]",
      "application/vnd.jupyter.widget-view+json": {
       "version_major": 2,
       "version_minor": 0,
       "model_id": "b95735f799eb4e31b81a8176b22f2b40"
      }
     },
     "metadata": {},
     "output_type": "display_data"
    }
   ],
   "source": [
    "# Find some incorrect classification\n",
    "data_loader = DataLoader(dataset=data_test, batch_size=32, shuffle=False, pin_memory=True, num_workers=8)\n",
    "model_ensemble = []\n",
    "for model_file in tqdm(model_files, desc=\"Loading Models..\", position=1):\n",
    "    model_nn = models.get(model_base)()\n",
    "    model_nn.load_state_dict(torch.load(model_file))\n",
    "    model_nn.cuda()\n",
    "    model_nn.eval()\n",
    "    model_ensemble.append(model_nn)\n",
    "\n",
    "labels = []\n",
    "predictions = []\n",
    "for batch in tqdm(data_loader, desc=\"Images...\", position=2):\n",
    "        _left, _right, _label = batch\n",
    "        _predicted_blink = [sigmoid(m(_left.float().cuda(), _right.float().cuda())) for m in model_ensemble]\n",
    "        labels.extend(torch.flatten(_label).tolist())\n",
    "        _predicted_blink = torch.stack(_predicted_blink, dim=1)\n",
    "        _predicted_blink = torch.mean(_predicted_blink, dim=1)\n",
    "        predictions.extend(torch.flatten(_predicted_blink.detach().cpu()).tolist())"
   ],
   "metadata": {
    "collapsed": false,
    "pycharm": {
     "name": "#%%\n"
    }
   }
  },
  {
   "cell_type": "code",
   "execution_count": 10,
   "outputs": [],
   "source": [
    "incorrect_predictions_lab = []\n",
    "incorrect_predictions_pred = []\n",
    "incorrect_predictions_idx = []\n",
    "for idx, (lab, pred) in enumerate(zip(labels, predictions)):\n",
    "    if (lab < 0.1 and pred >= 0.23) or (lab > 0.9 and pred < 0.23):\n",
    "        incorrect_predictions_lab.append(lab)\n",
    "        incorrect_predictions_pred.append(pred)\n",
    "        incorrect_predictions_idx.append(idx)\n",
    "\n",
    "import pandas as pd\n",
    "df = pd.DataFrame({\"label\": incorrect_predictions_lab,\n",
    "                   \"prediction\": incorrect_predictions_pred,\n",
    "                   \"index\": incorrect_predictions_idx})\n",
    "df.to_csv(os.path.abspath(os.path.expanduser(f\"~/catkin_ws/src/rt_gene/assets/rtbene_pytorch_incorrect_idx.csv\")))"
   ],
   "metadata": {
    "collapsed": false,
    "pycharm": {
     "name": "#%%\n"
    }
   }
  },
  {
   "cell_type": "code",
   "execution_count": 9,
   "outputs": [],
   "source": [
    "# Visualise some incorrect predictions\n",
    "for label, prediction, idx in zip(incorrect_predictions_lab, incorrect_predictions_pred, incorrect_predictions_idx)\n",
    "    _img_left, _img_right, _ = data_test[idx]\n",
    "    _leye_np = np.array(_img_left)\n",
    "    _reye_np = np.array(_img_right)\n",
    "    _eye_np = np.concatenate((_reye_np, _leye_np), axis=1)\n",
    "    _eye_np = cv2.cvtColor(_eye_np, cv2.COLOR_BGR2RGB)\n",
    "    cv2.imshow(\"eye\", _eye_np)\n",
    "    cv2.waitKey(1)"
   ],
   "metadata": {
    "collapsed": false,
    "pycharm": {
     "name": "#%%\n"
    }
   }
  }
 ]
}